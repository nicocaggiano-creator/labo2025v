{
  "nbformat": 4,
  "nbformat_minor": 0,
  "metadata": {
    "colab": {
      "provenance": [],
      "include_colab_link": true
    },
    "kernelspec": {
      "name": "ir",
      "display_name": "R"
    },
    "language_info": {
      "name": "R"
    }
  },
  "cells": [
    {
      "cell_type": "markdown",
      "metadata": {
        "id": "view-in-github",
        "colab_type": "text"
      },
      "source": [
        "<a href=\"https://colab.research.google.com/github/nicocaggiano-creator/labo2025v/blob/main/src/CazaTalentos/CazaTalentos_v02_Binomial.ipynb\" target=\"_parent\"><img src=\"https://colab.research.google.com/assets/colab-badge.svg\" alt=\"Open In Colab\"/></a>"
      ]
    },
    {
      "cell_type": "markdown",
      "source": [
        "# Cazatalentos\n",
        "## buscando a  “La verdadera mejor encestadora”"
      ],
      "metadata": {
        "id": "5NHQWdqh3Sro"
      }
    },
    {
      "cell_type": "markdown",
      "source": [
        "## 1.Introduccion\n",
        "Este notebook analiza de forma didáctica la razón por la que se produce el overfitting.\n",
        "\n",
        "Ver los primeros cinco minutos de este video muy relacionado con lo que veremos\n",
        "[Veritasium El Éxito ¿es Suerte o Trabajo Duro?](https://storage.googleapis.com/open-courses/austral2025-af91/labo1r/veritasium_success_paradox.html)"
      ],
      "metadata": {
        "id": "q2mpBZS53jCQ"
      }
    },
    {
      "cell_type": "markdown",
      "source": [
        "### 1.1 Motivacion\n",
        "\n",
        "El siguiente desafío busca introducir el problema fundamental de la Ciencia de Datos que es el overfitting desde un ángulo distinto,  presentando los fenómenos del efecto del tamaño de la muestra,\n",
        "<br> el conocido problema de las múltiples comparaciones  y “la maldición del ganador”.\n",
        "<br>\n",
        "<br> Aunque anecdóticametne está basado en algo deportivo, se extiende fácilmente  a :\n",
        "*  la efectividad de acciones de marketing\n",
        "*  el testeo de medicamentos\n",
        "*  experimentos ciéntíficos https://www.ncbi.nlm.nih.gov/pmc/articles/PMC1182327/\n",
        "*  la comparación de modelos predictivos\n",
        "*  la elección del mejor corte en un nodo de un árbol de decisión, etc\n",
        "*  el examen único de **residencias médicas** de la República Argentina, y los incidentes presentados en el año 2025 https://www.infobae.com/salud/2025/08/08/examen-de-residencias-ninguno-de-los-117-medicos-que-se-presentaron-pudo-revalidar-su-nota-en-la-segunda-evaluacion/\n",
        "\n"
      ],
      "metadata": {
        "id": "BIwyaLbd3vAn"
      }
    },
    {
      "cell_type": "markdown",
      "source": [
        "### 1.2 Generalidades\n",
        "Vari@s cazatalent@s de la gran ciudad van recorriendo pueblos en búsqueda de las mejores jugadoras de basket para tiros libres en la Liga Femenina de Basket.\n",
        "<br>El procedimiento recomendado es el siguiente : un@ cazatalentos llega a un pueblo y va a la única cancha de basket del lugar donde la están esperando las adolescentes interesadas, las hace tirar tiros libres y elige a la mejor jugadora.\n",
        "<br>Posteriormente a la elección del mejor jugadora, si le parece a la entrenadora de la gran ciudad, se llevará a la jugadora a que demuestre que tan buena es.\n",
        "\n",
        "<br>A las jugadoras los podemos equiparar con modelos predictivos.\n"
      ],
      "metadata": {
        "id": "RDbj1N8U4Ain"
      }
    },
    {
      "cell_type": "markdown",
      "source": [
        "### 2 Definición del Problema\n",
        "\n",
        "¿Qué metodología de las que se plantearán es la que propone a la jugadora con mayor probabilidad de superar el umbral del 80% de aciertos en la nueva prueba que se hará en la gran ciudad?\n",
        "<br> Cada jugadora posee un “índice de enceste”, la cazatalentos no tiene forma de conocerlos; lo único que puede hacer la cazatalentos es hacer que las jugadoras hagan tiros libres, y medir los aciertos y no aciertos."
      ],
      "metadata": {
        "id": "-5pmca3q4NpX"
      }
    },
    {
      "cell_type": "markdown",
      "source": [
        "### 2.1  Caso fallido, una jugadora se quiere pasar de lista ...\n",
        "\n",
        "La cazatalentos llega a una pequeña localidad a la que le han dicho que hay dos adolescentes cuyas habilidades debe testear.\n",
        "<br> Una es super talentosa se llama Diana Taurasi  https://en.wikipedia.org/wiki/Diana_Taurasi, nosotros sabemos que tiene un “índice de enceste” del 0.85, es decir cada vez que hace un tiro libre su probabilidad de encestar es del 85%.   Si hace 100 tiros libres, en promedio encesta 85 veces,  a veces puede ser más, a veces menos, pero en promedio encesta 85 de 100.\n",
        "<br> La otra es un auténtico desastre, a quien llamaremos  Miss X, y su índice de enceste es de 0.10.  Esto quiere decir que si hace 100  tiros libres, en promedio encesta 10.\n",
        "<br> La cazatalentos NO tiene forma de conocer los valores de 0.85 y 0.10, solo puede hacerlas tirar y contar aciertos.\n",
        "\n",
        "<br>La cazatalentos llega al gimnasio,  y solo se encuentra Diana, con lo cual le indica que comience a tirar.  Al tiro 10, Diana lleva 8 encestes y 2 no-enceste.\n",
        "<br>En ese momento, llega con un andar cansino Miss X y las interrumpe :  ¿cuánto va Diana ? La cazatalentos le responde  8 de 10.  Miss X solicita permiso para tirar, tira una sola vez y acierta.\n",
        "<br>Ahí mismo dice : “paren las rotativas, yo soy la clara ganadora de este torneo,  mi indice de acierto es del  100% y el de Diana es del 80% ,  la matemática es clara”.\n",
        "<br>La cazatalentos monta en cólera y le dice :  pues usted joven solo ha realizado un tiro, ¿Si lo hubiera errado, aceptaría decir entonces que su indice de acierto es del 0%? Ciertamente no.\n",
        "<br>Pues ahora, usted deberá seguir tirando hasta completar sus 10 tiros libres, y recién ahí compararé.\n"
      ],
      "metadata": {
        "id": "nJj3sNJv4XYO"
      }
    },
    {
      "cell_type": "markdown",
      "source": [
        "### 2.2 Segundo Caso\n",
        "\n",
        "La cazatalentos tiene el siguiente algoritmo, hace que Diana Taurasi y Miss X hagan 10 tiros libres cada una, y elige a la ganadora de esos 10 tiros libres.\n",
        "¿Garantiza este método que por lo menos el 99% de las veces elige a Diana Taurasi?\n",
        "\n",
        "<br>¿La desastrosa Miss X puede llegar a encestar los 10 tiros libres?  <br>Efectivamente sí existe esa posibilidad, pero con una muy baja probabilidad, la probabilidad es de 0.10 ^10  =  1e-10\n",
        "<br>El símbolo de  ^  significa  \"elevado a la potencia de\"\n",
        "<br>\n",
        "<br>¿Cual es la probabilidad que Miss X tire una sola vez y acierte este tiro? <br>Simplemente 0.1 , una en diez, con lo cual ha tenido mucha suerte en su primer tiro, pero no la va a poder mantener !\n",
        "\n",
        "<br>¿La adolescente Diana Taurasi puede llegar a encestar los 10 tiros libres?  Efectivamente, su probabilidad es  0.85 ^10 = 0.1968744"
      ],
      "metadata": {
        "id": "zn2iG2Bw4wTm"
      }
    },
    {
      "cell_type": "markdown",
      "source": [
        "En el lenguaje R la instrucción  runif(10)  genera un vector con 10 números aleatorios con distribución uniforme en el intervalo [0,1], por ejemplo"
      ],
      "metadata": {
        "id": "ye8SFCwU6poc"
      }
    },
    {
      "cell_type": "markdown",
      "source": [
        "Ahora simulamos 10000 veces la estrategia de tirar 10 tiros libres y quedarse con la ganadora."
      ],
      "metadata": {
        "id": "VR6fbLmd6yR4"
      }
    },
    {
      "cell_type": "code",
      "source": [
        "missx_ganadora <- 0\n",
        "\n",
        "for( i  in 1:10000 )\n",
        "{\n",
        "  aciertos_taurasi <- sum( runif(10) < 0.85 )\n",
        "  aciertos_missx <- sum( runif(10) < 0.10 )\n",
        "\n",
        "  if( aciertos_missx > aciertos_taurasi )  missx_ganadora <- missx_ganadora +1\n",
        "}\n",
        "\n",
        "cat( \"Miss X gano un total de : \", missx_ganadora )"
      ],
      "metadata": {
        "id": "ZD8ZjxDp5tqt",
        "colab": {
          "base_uri": "https://localhost:8080/"
        },
        "outputId": "684d9c59-2087-4f5c-fb6e-e576f5f5a12b"
      },
      "execution_count": null,
      "outputs": [
        {
          "output_type": "stream",
          "name": "stdout",
          "text": [
            "Miss X gano un total de :  0"
          ]
        }
      ]
    },
    {
      "cell_type": "markdown",
      "source": [
        "Lo que da la cantidad de 0,  o sea que en 10000 veces, siempre ganó Diana Taurasi, con lo cual la estrategia de quedarse con el mejor de 10 tiros ha funcionado, para este obvio caso donde hay apenas dos jugadoras y hay una diferencia abismal entre ellas.\n",
        "\n",
        "En este caso NO aparece el overfitting por ningún lado"
      ],
      "metadata": {
        "id": "gYSZOgTv64Ta"
      }
    },
    {
      "cell_type": "markdown",
      "source": [
        "### 2.3  Aparece el Overfitting\n",
        "\n",
        "El cazatalentos llega ahora a un pueblo donde hay 100 jugadores los que son mucho más parejos entre sí desde el punto de vista del ratio de enceste.\n",
        "\n",
        "Hay un jugador, que llamaremos jugador 1 que tiene un “índice de enceste” de  0.70\n",
        "Los 99 jugadores restantes que llamaremos “el pelotón”  tienen los índices de enceste  { 0.501, 0.0502, 0.503, …, 0.599  }\n",
        "Es decir el jugador 1 tiene 0.70 y el mejor jugador del pelotón tiene 0.599,  hay un poco más de 0.10 de diferencia.  La diferencia de 0.10 es significativa en basket.\n",
        "\n",
        "¿Qué sucede con el algoritmo del cazatalentos de hacer tirar 10 tiros libres a cada uno de los jugadores y elegir al que más encestes logró ?\n"
      ],
      "metadata": {
        "id": "onrG79vw7CCQ"
      }
    },
    {
      "cell_type": "code",
      "source": [
        "\n",
        "\n",
        "set.seed( 500009 )\n",
        "\n",
        "# calcula cuantos encestes logra una jugadora con indice de enceste prob\n",
        "# haciendo qyt tiros libres\n",
        "\n",
        "ftirar  <- function( prob, qty ){\n",
        "  return( sum( runif(qty) < prob ) )\n",
        "}\n",
        "\n",
        "\n",
        "# defino las jugadoras\n",
        "taurasi    <- 0.7\n",
        "peloton    <- ( 501:599 ) / 1000\n",
        "jugadoras  <- c( taurasi, peloton )\n",
        "\n",
        "\n",
        "\n",
        "\n",
        "\n",
        "# hago que las 100 jugadoras tiren 10 veces cada una\n",
        "mapply( ftirar, jugadoras, 10 )\n",
        "\n",
        "primera_ganadora  <- 0\n",
        "\n",
        "for( i in 1:10000 ){  # diez mil experimentos\n",
        "\n",
        "  vaciertos  <- mapply( ftirar, jugadoras, 10 )  # 10 tiros libres cada jugadora\n",
        "\n",
        "  mejor  <- which.max( vaciertos )\n",
        "  if( mejor == 1 )  primera_ganadora  <- primera_ganadora + 1\n",
        "}\n",
        "\n",
        "cat(\"\\n\")\n",
        "cat( \"En los diez mil experimentos, se detecto correctamente a la mejor jugadora la cantidad de veces:\", primera_ganadora )\n"
      ],
      "metadata": {
        "id": "rjh8LUah7NRy",
        "colab": {
          "base_uri": "https://localhost:8080/",
          "height": 86
        },
        "outputId": "edf73eca-c1df-4f95-ea9a-0cc5800b1850"
      },
      "execution_count": null,
      "outputs": [
        {
          "output_type": "display_data",
          "data": {
            "text/html": [
              "<style>\n",
              ".list-inline {list-style: none; margin:0; padding: 0}\n",
              ".list-inline>li {display: inline-block}\n",
              ".list-inline>li:not(:last-child)::after {content: \"\\00b7\"; padding: 0 .5ex}\n",
              "</style>\n",
              "<ol class=list-inline><li>7</li><li>9</li><li>4</li><li>6</li><li>2</li><li>6</li><li>2</li><li>5</li><li>6</li><li>6</li><li>3</li><li>3</li><li>6</li><li>5</li><li>4</li><li>7</li><li>6</li><li>7</li><li>5</li><li>9</li><li>6</li><li>2</li><li>6</li><li>4</li><li>6</li><li>4</li><li>6</li><li>3</li><li>2</li><li>2</li><li>9</li><li>5</li><li>7</li><li>4</li><li>6</li><li>6</li><li>4</li><li>8</li><li>5</li><li>5</li><li>6</li><li>6</li><li>5</li><li>4</li><li>6</li><li>5</li><li>6</li><li>6</li><li>5</li><li>5</li><li>7</li><li>5</li><li>2</li><li>5</li><li>6</li><li>5</li><li>7</li><li>7</li><li>2</li><li>8</li><li>7</li><li>6</li><li>7</li><li>3</li><li>6</li><li>7</li><li>2</li><li>5</li><li>6</li><li>4</li><li>6</li><li>5</li><li>4</li><li>8</li><li>5</li><li>5</li><li>7</li><li>6</li><li>5</li><li>8</li><li>6</li><li>6</li><li>6</li><li>5</li><li>6</li><li>6</li><li>6</li><li>8</li><li>4</li><li>6</li><li>8</li><li>7</li><li>6</li><li>7</li><li>8</li><li>3</li><li>6</li><li>7</li><li>3</li><li>7</li></ol>\n"
            ],
            "text/markdown": "1. 7\n2. 9\n3. 4\n4. 6\n5. 2\n6. 6\n7. 2\n8. 5\n9. 6\n10. 6\n11. 3\n12. 3\n13. 6\n14. 5\n15. 4\n16. 7\n17. 6\n18. 7\n19. 5\n20. 9\n21. 6\n22. 2\n23. 6\n24. 4\n25. 6\n26. 4\n27. 6\n28. 3\n29. 2\n30. 2\n31. 9\n32. 5\n33. 7\n34. 4\n35. 6\n36. 6\n37. 4\n38. 8\n39. 5\n40. 5\n41. 6\n42. 6\n43. 5\n44. 4\n45. 6\n46. 5\n47. 6\n48. 6\n49. 5\n50. 5\n51. 7\n52. 5\n53. 2\n54. 5\n55. 6\n56. 5\n57. 7\n58. 7\n59. 2\n60. 8\n61. 7\n62. 6\n63. 7\n64. 3\n65. 6\n66. 7\n67. 2\n68. 5\n69. 6\n70. 4\n71. 6\n72. 5\n73. 4\n74. 8\n75. 5\n76. 5\n77. 7\n78. 6\n79. 5\n80. 8\n81. 6\n82. 6\n83. 6\n84. 5\n85. 6\n86. 6\n87. 6\n88. 8\n89. 4\n90. 6\n91. 8\n92. 7\n93. 6\n94. 7\n95. 8\n96. 3\n97. 6\n98. 7\n99. 3\n100. 7\n\n\n",
            "text/latex": "\\begin{enumerate*}\n\\item 7\n\\item 9\n\\item 4\n\\item 6\n\\item 2\n\\item 6\n\\item 2\n\\item 5\n\\item 6\n\\item 6\n\\item 3\n\\item 3\n\\item 6\n\\item 5\n\\item 4\n\\item 7\n\\item 6\n\\item 7\n\\item 5\n\\item 9\n\\item 6\n\\item 2\n\\item 6\n\\item 4\n\\item 6\n\\item 4\n\\item 6\n\\item 3\n\\item 2\n\\item 2\n\\item 9\n\\item 5\n\\item 7\n\\item 4\n\\item 6\n\\item 6\n\\item 4\n\\item 8\n\\item 5\n\\item 5\n\\item 6\n\\item 6\n\\item 5\n\\item 4\n\\item 6\n\\item 5\n\\item 6\n\\item 6\n\\item 5\n\\item 5\n\\item 7\n\\item 5\n\\item 2\n\\item 5\n\\item 6\n\\item 5\n\\item 7\n\\item 7\n\\item 2\n\\item 8\n\\item 7\n\\item 6\n\\item 7\n\\item 3\n\\item 6\n\\item 7\n\\item 2\n\\item 5\n\\item 6\n\\item 4\n\\item 6\n\\item 5\n\\item 4\n\\item 8\n\\item 5\n\\item 5\n\\item 7\n\\item 6\n\\item 5\n\\item 8\n\\item 6\n\\item 6\n\\item 6\n\\item 5\n\\item 6\n\\item 6\n\\item 6\n\\item 8\n\\item 4\n\\item 6\n\\item 8\n\\item 7\n\\item 6\n\\item 7\n\\item 8\n\\item 3\n\\item 6\n\\item 7\n\\item 3\n\\item 7\n\\end{enumerate*}\n",
            "text/plain": [
              "  [1] 7 9 4 6 2 6 2 5 6 6 3 3 6 5 4 7 6 7 5 9 6 2 6 4 6 4 6 3 2 2 9 5 7 4 6 6 4\n",
              " [38] 8 5 5 6 6 5 4 6 5 6 6 5 5 7 5 2 5 6 5 7 7 2 8 7 6 7 3 6 7 2 5 6 4 6 5 4 8\n",
              " [75] 5 5 7 6 5 8 6 6 6 5 6 6 6 8 4 6 8 7 6 7 8 3 6 7 3 7"
            ]
          },
          "metadata": {}
        },
        {
          "output_type": "stream",
          "name": "stdout",
          "text": [
            "\n",
            "En los diez mil experimentos, se detecto correctamente a la mejor jugadora la cantidad de veces: 1442"
          ]
        }
      ]
    },
    {
      "cell_type": "markdown",
      "source": [
        "Aquí ya pasa algo asombroso, el overfitting en todo su esplendor.\n",
        "Si hago tirar 10 tiros libres a cada uno de las 100 jugadoras, apenas 1450 veces de las 10000 este método  devuelve a la verdadera mejor, que es la jugadora con un índice de enceste de 0.70\n",
        "\n",
        "Intuitivamente, lo que está sucediendo es que la inmensa mayoría de las veces, una de las 99 jugadoras del pelotón tiene mucha suerte y supera a la jugadora de 0.70, con lo cual se elige a una del pelotón y no a la verdadera mejor !  \n",
        "<br>El tener 99 jugadoras en el pelotón hace que al ser tantas hay varias que tienen mala suerte, pero también hay varias con muy buena suerte, y la que tuvo más suerte supera a la verdadera mejor !\n"
      ],
      "metadata": {
        "id": "Ctw9S6A17w4f"
      }
    },
    {
      "cell_type": "markdown",
      "source": [
        "### 2.4 Nueva ronda\n",
        "\n",
        "Ahora pasemos a ver aún algo más notable.\n",
        "Tenemos a nuestra jugadora de 0.70, y a las 99 jugadoras del pelotón.\n",
        "1.  Las hacemos tirar a cada una 10 tiros libres, y elegimos a la ganadora registrando cuántos aciertos tuvo\n",
        "2.  solo a esa ganadora la hacemos tirar una nueva ronda de 10 tiros libres\n",
        "3.  finalmente comparamos estos nuevos aciertos con los originales.\n"
      ],
      "metadata": {
        "id": "B0uks59u792r"
      }
    },
    {
      "cell_type": "code",
      "source": [
        "\n",
        "\n",
        "set.seed( 102191 )\n",
        "\n",
        "# calcula cuantos encestes logra una jugadora con indice de enceste prob\n",
        "# haciendo qyt tiros libres\n",
        "\n",
        "ftirar  <- function( prob, qty ){\n",
        "  return( sum( runif(qty) < prob ) )\n",
        "}\n",
        "\n",
        "\n",
        "# defino los jugadoras\n",
        "taurasi <-  0.7\n",
        "peloton    <-  ( 501:599 ) / 1000\n",
        "jugadoras  <-  c( taurasi, peloton )\n",
        "\n",
        "\n",
        "cat( \"Aciertos Ganadora\", \"\\t\", \"Nueva Ronda\", \"\\n\")\n",
        "\n",
        "for( i in 1:10 ){\n",
        "  vaciertos  <- mapply( ftirar, jugadoras, 10 )  # cada jugadora tira 10 tiros libres\n",
        "  mejor  <- which.max( vaciertos )\n",
        "  aciertos_torneo  <- vaciertos[ mejor ]\n",
        "\n",
        "  aciertos_segunda  <- ftirar( jugadoras[ mejor ], 10 )\n",
        "\n",
        "  cat( aciertos_torneo, \"\\t\\t\\t\", aciertos_segunda, \"\\n\" )\n",
        "}"
      ],
      "metadata": {
        "id": "3o6MUbsqUOPe",
        "colab": {
          "base_uri": "https://localhost:8080/"
        },
        "outputId": "7fd2f4fa-3f58-4014-99b7-1d7af7ee9e91"
      },
      "execution_count": null,
      "outputs": [
        {
          "output_type": "stream",
          "name": "stdout",
          "text": [
            "Aciertos Ganadora \t Nueva Ronda \n",
            "10 \t\t\t 5 \n",
            "8 \t\t\t 7 \n",
            "9 \t\t\t 5 \n",
            "9 \t\t\t 7 \n",
            "9 \t\t\t 5 \n",
            "9 \t\t\t 7 \n",
            "10 \t\t\t 3 \n",
            "9 \t\t\t 5 \n",
            "10 \t\t\t 7 \n",
            "8 \t\t\t 2 \n"
          ]
        }
      ]
    },
    {
      "cell_type": "markdown",
      "source": [
        "Lo que se observa en este caso es “La maldición del ganador”,\n",
        "<br>la performance que la jugadora que logró más aciertos en la competencia general luego NO LA PUEDE MANTENER,\n",
        "<br>en todos los casos vemos que en la nueva ronda de diez tiene menos aciertos que en la primera ronda de diez.\n",
        "<br>La primera ronda  la jugadora que resultó ganadora fue debido a la suerte, y esa suerte ya no la acompaña para la segunda ronda de 10 tiros libres.\n",
        "\n",
        "Relacionado con las competencias Kaggle, una forma de pensar esto es  \"¿Cómo le va a ir al mejor modelo del Public Leaderboard en el Private?\" ,  esta es la razón por la que los puntajes que vemos en el Private son inferiores al Public.\n",
        "La primer ronda puede verse como quedarnos con el mejor modelo del Public Leaderboard, la nueva ronda es como le va a ese modelo en el Private Leaderboard.\n",
        "<br>Elegir el mejor modelo del Public, suele ser una pésima estrategia."
      ],
      "metadata": {
        "id": "fFOmnBma8Fuf"
      }
    },
    {
      "cell_type": "markdown",
      "source": [
        "### El overfitting en su plenitud\n",
        "\n",
        "¿Cuándo es más extremo el efecto de “La maldición del ganador” ?\n",
        "<br>Supongamos por un momento que ahora, en otro pueblo,  tenemos 100 jugadoras nuevas, todas con un “índice de enceste” de 0.70 ;  recordar que ese valor jamás es conocido por la cazatalentos.\n",
        "\n",
        "<br>Ahora nos ponemos más estrictos, y las hacemos tirar 100 veces a cada una, elegimos a la ganadora, y solo a esa ganadora la hacemos tirar 100 nuevos tiros libres.\n",
        "<br> Podemos pensarlo como que la cazatalentos se lleva a la mejor jugadora a la gran ciudad, le habla maravillas de ella a la entrenadora, y la entrenadora dice “probémosla a ver si es tan buena como decís, que haga 100 tiros libres aquí y ahora”"
      ],
      "metadata": {
        "id": "yvPC7A4x9fPl"
      }
    },
    {
      "cell_type": "code",
      "source": [
        "\n",
        "\n",
        "set.seed( 102191 )\n",
        "\n",
        "# calcula cuantos encestes logra una jugadora con indice de enceste prob\n",
        "# que hace qyt tiros libres\n",
        "\n",
        "ftirar  <- function( prob, qty ){\n",
        "  return( sum( runif(qty) < prob ) )\n",
        "}\n",
        "\n",
        "\n",
        "# defino los jugadoras\n",
        "jugadoras  <- rep( 0.7, 100 )\n",
        "\n",
        "\n",
        "\n",
        "\n",
        "cat( \"Aciertos Ganadora\", \"\\t\", \"Nueva Ronda\", \"\\n\")\n",
        "for( i in 1:10 ){\n",
        "  vaciertos  <- mapply( ftirar, jugadoras, 100 )  # cada jugadora tira 100 tiros libres\n",
        "  mejor  <- which.max( vaciertos )\n",
        "  aciertos_torneo  <- vaciertos[ mejor ]\n",
        "\n",
        "  aciertos_segunda  <- ftirar( jugadoras[ mejor ], 100 )\n",
        "\n",
        "  cat( aciertos_torneo, \"\\t\\t\\t\", aciertos_segunda, \"\\n\" )\n",
        "}"
      ],
      "metadata": {
        "id": "Ro2WAmmi9vGq",
        "colab": {
          "base_uri": "https://localhost:8080/"
        },
        "outputId": "3be9a8be-65cc-4ad9-aa65-0f36a484dcca"
      },
      "execution_count": null,
      "outputs": [
        {
          "output_type": "stream",
          "name": "stdout",
          "text": [
            "Aciertos Ganadora \t Nueva Ronda \n",
            "82 \t\t\t 68 \n",
            "82 \t\t\t 78 \n",
            "83 \t\t\t 78 \n",
            "79 \t\t\t 64 \n",
            "82 \t\t\t 69 \n",
            "81 \t\t\t 73 \n",
            "78 \t\t\t 71 \n",
            "80 \t\t\t 69 \n",
            "82 \t\t\t 61 \n",
            "80 \t\t\t 73 \n"
          ]
        }
      ]
    },
    {
      "cell_type": "markdown",
      "source": [
        "Nuevamente vemos, que el puntaje alcanzado por la mejor jugadora cuando compitió contra las otras 99,  NO ES VUELTO A ALCANZAR  en la nueva ronda de 100 tiros libres que hace esa jugadora.\n",
        "<br>Este efecto es exactamente el mismo que vemos cuando alguien se empecina en lograr en el Leaderboard Público el mayor puntaje de la clase,  le va muy bien en el Público, pero se derrumba catastróficamente en el Privado.\n",
        "<br>Decimos que  “overfitió / sobreajustó el Leaderboard Publico”."
      ],
      "metadata": {
        "id": "XjDoJam6Bi30"
      }
    },
    {
      "cell_type": "markdown",
      "source": [
        "### 2.5 medida de la diferencia\n",
        "\n",
        "Ahora nos preguntamos, en este caso, en promedio, cuanto más aciertos tiene la ganadora (debido a la suerte)  en la primera ronda  con respecto a la segunda ?\n"
      ],
      "metadata": {
        "id": "y3VZbvqTBuPq"
      }
    },
    {
      "cell_type": "code",
      "source": [
        "\n",
        "\n",
        "set.seed( 102191 )\n",
        "\n",
        "# calcula cuantos encestes logra una jugadora con indice de enceste prob\n",
        "# que hace qyt tiros libres\n",
        "\n",
        "ftirar  <- function( prob, qty ){\n",
        "  return( sum( runif(qty) < prob ) )\n",
        "}\n",
        "\n",
        "\n",
        "# defino las jugadoras\n",
        "jugadoras  <- rep( 0.7, 100 )\n",
        "\n",
        "\n",
        "\n",
        "\n",
        "suma_diferencias <- 0\n",
        "\n",
        "for( i in 1:10000 ){\n",
        "  vaciertos  <- mapply( ftirar, jugadoras, 100 )  # cada jugador tira 100 tiros libres\n",
        "  mejor  <- which.max( vaciertos )\n",
        "  aciertos_torneo  <- vaciertos[ mejor ]\n",
        "\n",
        "  aciertos_segunda  <- ftirar( jugadoras[mejor], 100 )\n",
        "\n",
        "  suma_diferencias  <- suma_diferencias +  (aciertos_torneo - aciertos_segunda )\n",
        "}\n",
        "\n",
        "\n",
        "cat( \"Diferencia promedio:\",  suma_diferencias / 10000 )\n"
      ],
      "metadata": {
        "id": "c2i376B9BzHX",
        "colab": {
          "base_uri": "https://localhost:8080/"
        },
        "outputId": "2b39f032-13d2-4ccc-a35d-9f8c88a5190e"
      },
      "execution_count": null,
      "outputs": [
        {
          "output_type": "stream",
          "name": "stdout",
          "text": [
            "Diferencia promedio: 11.0609"
          ]
        }
      ]
    },
    {
      "cell_type": "markdown",
      "source": [
        "Exactamente este mismo efecto se da en el marketing digital.  Si en un A/B testing se prueban cien alternativas y se elige a la que tiene más efectividad, se observará que en un nuevo experimento disminuirá el rendimiento de esa alternativa.\n",
        "\n",
        "También sucede si se prueban muchos medicamentos al mismo tiempo,   el que resulte más efectivo disminuirá su efectividad en la nueva prueba.\n",
        "\n",
        "Este problema es llamado “El problema de las múltiples comparaciones”"
      ],
      "metadata": {
        "id": "J8DD6d8qBzaF"
      }
    },
    {
      "cell_type": "markdown",
      "source": [
        "### 2.6 una sola jugadora MUY buena\n",
        "\n",
        "Sexto caso,  ¿cuándo se atenúa/desaparece  el overfitting?\n",
        "Supongamos 99 jugadoras con un índice de enceste de 0.60   y  ahora sumamos a la adolescente Diana Taurasi con su superlativo índice de enceste del 0.85\n",
        "Los hacemos tirar a todas 100 tiros libres, llevamos a la ganadora a la gran ciudad, y allí le contamos a la entrenadora de nuestra ganadora Diana Taurasi."
      ],
      "metadata": {
        "id": "tkt4OngiCI_O"
      }
    },
    {
      "cell_type": "code",
      "source": [
        "\n",
        "\n",
        "set.seed( 102191 )\n",
        "\n",
        "# calcula cuantos encestes logra una jugadora con indice de enceste prob\n",
        "# que hace qyt tiros libres\n",
        "\n",
        "ftirar  <- function( prob, qty ){\n",
        "  return( sum( runif(qty) < prob ) )\n",
        "}\n",
        "\n",
        "\n",
        "# defino las jugadoras\n",
        "taurasi    <- 0.85\n",
        "peloton   <- rep( 0.6, 99 )  # jugadoras identicas\n",
        "jugadoras <- c( taurasi, peloton )\n",
        "\n",
        "\n",
        "\n",
        "cat( \"Aciertos Ganadora\", \"\\t\", \"Nueva Ronda\", \"\\n\")\n",
        "\n",
        "for( i in 1:10 ){\n",
        "  vaciertos  <- mapply( ftirar, jugadoras, 100 )  # cada jugadora tira 100 tiros libres\n",
        "  mejor  <- which.max( vaciertos )\n",
        "  aciertos_torneo  <- vaciertos[ mejor ]\n",
        "\n",
        "  aciertos_segunda  <- ftirar( jugadoras[ mejor ], 100 )\n",
        "\n",
        "  cat(aciertos_torneo, \"\\t\\t\\t\", aciertos_segunda, \"\\n\" )\n",
        "}\n",
        "\n"
      ],
      "metadata": {
        "id": "o0N0WPw84JCR",
        "colab": {
          "base_uri": "https://localhost:8080/"
        },
        "outputId": "2d6073cd-f229-4cc9-eb47-5dcbb0e87f7f"
      },
      "execution_count": null,
      "outputs": [
        {
          "output_type": "stream",
          "name": "stdout",
          "text": [
            "Aciertos Ganadora \t Nueva Ronda \n",
            "88 \t\t\t 91 \n",
            "85 \t\t\t 86 \n",
            "79 \t\t\t 91 \n",
            "86 \t\t\t 81 \n",
            "87 \t\t\t 87 \n",
            "84 \t\t\t 84 \n",
            "86 \t\t\t 83 \n",
            "87 \t\t\t 86 \n",
            "85 \t\t\t 77 \n",
            "92 \t\t\t 83 \n"
          ]
        }
      ]
    },
    {
      "cell_type": "markdown",
      "source": [
        "En este caso observamos dos cosas, en primer lugar SIEMPRE la ganadora del torneo fue Diana Taurasi, y en segundo  cuando tuvo que mostrar en la ciudad su performance, fue la misma que en el primer torneo.  \n",
        "<br>Es tan buena Taurasi que le ganó a la que tuvo más suerte del pelotón, el efecto suerte no está afectando a Taurasi porque está sola, y gana por su superioridad, no por la suerte."
      ],
      "metadata": {
        "id": "JEiveN8aCSFQ"
      }
    },
    {
      "cell_type": "markdown",
      "source": [
        "### 2.7 Efectos del tamaño de la ronda\n",
        "\n",
        "La cazatalentos llega ahora a un pueblo donde hay 100 jugadoras las que son mucho más parejas entre sí desde el punto de vista del ratio de enceste.\n",
        "Hay un jugadora, que llamaremos jugadora 1 que tiene un “índice de enceste” de  0.70 ,  es una jugadora buena pero dista mucho de ser Diana Taurasi, jamás estará en el \"WNBA Hall of Fame\".\n",
        "\n",
        "Las 99 jugadoras restantes que llamaremos “el pelotón”  tienen los índices de enceste  { 0.501, 0.0502, 0.503, …, 0.599  }  Es decir la jugadora 1 tiene 0.70 y la mejor jugadora del pelotón tiene 0.599,  o sea hay un poco más de 0.10 de diferencia.  La diferencia de 0.10 es significativa en basket.\n",
        "\n",
        "¿Cuántos tiros libres debe la cazatalentos pedirles que haga cada jugadora para que  si elige a la mejor jugadora tiene la certeza de llevarse a “la verdadero mejor” el 99% de los casos ?\n"
      ],
      "metadata": {
        "id": "BYnlNCcdC3Aa"
      }
    },
    {
      "cell_type": "code",
      "source": [
        "# intencionalmente la mejor jugadora va al final de la lista de jugadoras\n",
        "# porque la funcion which.max() de R hace trampa\n",
        "# si hay un empate ( dos máximos) se queda con la que esta primera en el vector\n",
        "\n",
        "\n",
        "set.seed( 102191 )\n",
        "\n",
        "# calcula cuantos encestes logra una jugadora con indice de enceste prob\n",
        "# que hace qyt tiros libres\n",
        "\n",
        "ftirar  <- function( prob, qty ){\n",
        "  return( sum( runif(qty) < prob ) )\n",
        "}\n",
        "\n",
        "\n",
        "# defino los jugadoras\n",
        "taurasi    <- 0.7\n",
        "peloton    <- ( 501:599 ) / 1000\n",
        "jugadoras  <- c( peloton, taurasi) # intencionalmente la mejor esta al final\n",
        "\n",
        "\n",
        "for( tiros_libres in c(10, 20, 50, 100, 200, 300, 400, 415, 500, 600, 700, 1000 ) ){\n",
        "\n",
        "  ultima_ganadora <- 0\n",
        "\n",
        "  for( i in 1:10000 ) { # diez mil experimentos\n",
        "\n",
        "    vaciertos  <- mapply( ftirar, jugadoras, tiros_libres )\n",
        "    mejor  <- which.max( vaciertos )\n",
        "\n",
        "    if( mejor == 100 )  ultima_ganadora  <- ultima_ganadora + 1\n",
        "  }\n",
        "\n",
        "  cat( tiros_libres, \"\\t\", ultima_ganadora/10000, \"\\n\" )\n",
        "}\n",
        "\n"
      ],
      "metadata": {
        "id": "9lAZ2JWjC_7S",
        "colab": {
          "base_uri": "https://localhost:8080/"
        },
        "outputId": "65b1bc34-7880-44de-de81-b75f3ab89843"
      },
      "execution_count": null,
      "outputs": [
        {
          "output_type": "stream",
          "name": "stdout",
          "text": [
            "10 \t 0.0299 \n",
            "20 \t 0.0868 \n",
            "50 \t 0.268 \n",
            "100 \t 0.5448 \n",
            "200 \t 0.8532 \n",
            "300 \t 0.9579 \n",
            "400 \t 0.9877 \n",
            "415 \t 0.9911 \n",
            "500 \t 0.9964 \n",
            "600 \t 0.9995 \n",
            "700 \t 0.9999 \n",
            "1000 \t 1 \n"
          ]
        }
      ]
    },
    {
      "cell_type": "markdown",
      "source": [
        "Haciendo tirar 415 tiros libres a cada una de los 100 jugadoras,\n",
        "<br> y quedándose con la ganadora de ese torneo,\n",
        "<br> en el 99.10%   ( 0.9910 )  de los casos se está segura que esa es \"la verdadera mejor\".\n"
      ],
      "metadata": {
        "id": "nusfuHtqDEF3"
      }
    },
    {
      "cell_type": "markdown",
      "source": [
        "## 3 Conclusiones\n",
        "\n",
        "El overfitting aparece cuando se comparan muchas jugadoras (modelos predictivos)  muy parecidas entre sí.  \n",
        "<br> En el modelado predictivo es la situación más común que se tengan modelos con similar poder predictivo ya que generalmente solo difieren apenas en valores de los hiperparámetros o algunas columnas nuevas con feature engineering.\n",
        "\n",
        "Las jugadoras no son determinísticas, sino probabilísticas, con lo cual al comparar muchas parecidas la ganadora es quien además de su talento tuvo más suerte en ese torneo.  La jugadora ganadora ganó por mera suerte, y  NO puede sostener esa suerte en un nuevo torneo, por lo que el puntaje del primer torneo es mentiroso, no se sostiene en el nuevo torneo.\n",
        "\n",
        "El overfitting se atenúa o puede llegar a desaparecer del todo, si en el torneo hay una jugadora ampliamente superior al resto. Esa jugadora SI mantiene su performance de un torneo al otro, ya que su puntaje en el primer torneo fue alto porque es realmente buena, porque no es el máximo de muchos parecidas a ella.\n",
        "\n",
        "La forma de combatir el overfitting es hacer torneos de muchos tiros libres.\n",
        "<br>Para estimar que tan buena es la jugadora ganadora de un torneo, hay que hacerla tirar nuevamente tiros libres.\n",
        "<br>El secreto está en hacer más de un torneo.\n"
      ],
      "metadata": {
        "id": "MJE_DbTMDI2x"
      }
    },
    {
      "cell_type": "markdown",
      "source": [
        "## 4 Desafio Cazatalentos Ordenamiento"
      ],
      "metadata": {
        "id": "on4_A7v8Fn8q"
      }
    },
    {
      "cell_type": "markdown",
      "source": [
        "### 4.1 Enunciado\n",
        "\n",
        "Se reúne la entrenadora  en la gran ciudad con algunas cazatalentos que visitaron regiones distintas.\n",
        "\n",
        "Entrenadora:  Bienvenidas a todas, veo que cada una de ustedes ha traído la estadística de su candidata. Sin embargo, yo debo ordenarlas de mejor a peor, y no me alcanza con que dos de ustedes me digan que que sus candidatas encestaron 80/100, necesito que me relaten exactamente el procedimiento que han seguido para elegir a la mejor jugadora.\n",
        "\n",
        "Cazatalentos 1:  Discúlpeme entrenadora, si dos de nosotras le presentamos casos que en distintos pueblos han encestado exactamente 80 de 100, probabilisticamente esas adolescentes son equivalentes. Es cierto que luego aquí en la gran ciudad el dia de la prueba una podrá encestar 77 de 100, la otra 83,  pero eso es la parte natural del random, ya sabemos que la distribución es binomial.  Ambas son equivalentes, no importa que pasó con el resto de las jugadoras de su pueblo.\n",
        "\n",
        "Entrenadora: Estimada “Cazatalentos 1”  tú estas equivocada, no consideras El Problema de las Multiples Comparaciones; elegir cuales de esas adolescentes vendrán a la gran ciudad a ser evaluadas es mi decisión. Comienza tú contando detalladamente el proceso que has seguido.\n",
        "4\n",
        "\n"
      ],
      "metadata": {
        "id": "6CRZMyXzDOj8"
      }
    },
    {
      "cell_type": "markdown",
      "source": [
        "**Cazatalentos 1**: Llegué a la localidad habían 100 adolescentes en el gimnasio, hice tirar a cada una 100 tiros, solo una obtuvo 80 aciertos, luego un par 79, otro par 78, y así descendían. La que logró 80 aciertos es mi candidata.\n"
      ],
      "metadata": {
        "id": "qrBHwlb-D8Aq"
      }
    },
    {
      "cell_type": "markdown",
      "source": [
        "**Cazatalentos 2:** Llegué a una pequeña ciudad y habían 200 adolescentes en el gimnasio, hice tirar a cada una 100 tiros, solo una obtuvo 80 aciertos, seis 79,  cinco 78, y así descendían. La que logró 80 aciertos es mi candidata."
      ],
      "metadata": {
        "id": "2aqYKT53EbOf"
      }
    },
    {
      "cell_type": "markdown",
      "source": [
        "**Cazatalentos 3:** Yo poseo 25 años de experiencia como cazatalentos y tengo muy buena intuición  para detectar el talento. Llegué a un pueblo donde habían 100 adolescentes, me senté en las gradas del gimnasio y las observé detenidamente mientras precalentaban sin tirar al aro.  A los 10 minutos, me paro, y señalo a una de ellas y le digo :  'tú, la número 13, a tirar 100 tiros; el resto gracias por haber venido pero se pueden ir cada una a su casa”. Y ahí al tirar esos 100 tiros logró 80 aciertos y esa es mi candidata."
      ],
      "metadata": {
        "id": "qVVDhqLLEdsG"
      }
    },
    {
      "cell_type": "markdown",
      "source": [
        "**Cazatalentos 4:** Llegué a minúsculo pueblo con un aro reglamentario en la pared de una escuela, habían solamente 2 adolescentes, hice tirar a cada una 100 tiros, una obtuvo 80 y la otra 75."
      ],
      "metadata": {
        "id": "fLGg_pXHElSG"
      }
    },
    {
      "cell_type": "markdown",
      "source": [
        "**Cazatalentos 5:** Le dice a la entrenadora : “fui a una localidad de 500 habitantes, había una sola adolescente interesada, la hice tirar 100 tiros libres, y encestó 80,  tengo una filmación con mi celular de los 100 tiros, sin edición ni cortes”\n",
        "En realidad, esa adolescente es la sobrina de la cazatalentos, la hizo tirar 10 rondas de 100 tiros cada una, grabó todas, pero tramposamente solo trae la grabación de la mejor ronda a la entrenadora.\n",
        "Los resultados obtenidos por su sobrina son\n",
        "\n",
        "\n",
        "| ronda | Tiros | Encestes |\n",
        "| ---: | ---: | ---: |\n",
        "| 1 | 100 | 68 |\n",
        "| 2 | 100 | 74 |\n",
        "| 3 | 100 | 78 |\n",
        "| 4 | 100 | 70 |\n",
        "| 5 | 100 | 68 |\n",
        "| 6 | 100 | 63 |\n",
        "| 7 | 100 | 80 |\n",
        "| 8 | 100 | 68 |\n",
        "| 9 | 100 | 67 |\n",
        "| 10 | 100 | 65 |\n",
        "\n",
        "\n",
        "(esta deshonestidad de la Cazatalentos 5 no debería parecerle extraña ni causarle gracia, es exactamente lo mismo que elegir como submit final el que le fue mejor en el Public Leaderboard,  algo muy común entre l@s alumn@s ...)\n",
        "<br>Por una persona espía en el pueblo, la entrenadora está al tanto de lo ocurrido y conoce la tabla anterior, usará dicha información para tomar la decisión, aunque no le dirá nada, por esta vez, a la cazatalentos."
      ],
      "metadata": {
        "id": "JGNSv31_EsZA"
      }
    },
    {
      "cell_type": "markdown",
      "source": [
        "**Cazatalentos 6:** Yo disiento con utilizar sesgos como lo hizo la Cazatalentos 3, creo que se deben dar oportunidades inesperadas. Camino al pueblo escuché en la radio los resultados de la quiniela matutina y el 43 fue el numero ganador.\n",
        "\n",
        "Llegué al gimnasio, habia 100 adolescentes, les explique que iba a utilizar criterios objetivos y subjetivos para elegir a la ganadora.  Las hice tirar 100 tiros a todas,  sin embargo ya tenía la decisión tomada de antemano, elegí a la numero 43, quien hizo 79 encestes de 100 tiros.\n",
        "Ni siquiera registré en mi tablet los encestes del resto, quería dar una oportunidad random a una de esas chicas."
      ],
      "metadata": {
        "id": "UvQMpoD6BZCB"
      }
    },
    {
      "cell_type": "markdown",
      "source": [
        "**Cazatalentos 7:** Llegué a la localidad habían 100 adolescentes en el gimnasio, todo perfectamente organizado por la dirección, hice tirar a cada una 100 tiros, solo una obtuvo 80 aciertos, luego un par 79, otro par 78, y así descendían. La que logró 80 aciertos era hasta ese momento mi candidata.\n",
        "<br> Estaba subiendo ya a mi automovil para retirarme, y llega corriendo una nueva adolescente. Me relata que vive en un pequeño paraje sin gimnasio a 60 kilómetros al norte, que tenía una cita con otra cazatalentos, la única adolescente de ese paraje, pero que por un terrible accidente de tránsito en un puente, la otra cazatalentos no pudo llegar a testearla, y le refirió que yo estaraía en este pueblo por lo que hacieno dedo llegó hasta aquí.\n",
        "<br> Con un llamado corroboré su historia, y como estaba con tiempo, reingresé al gimnasio y le hice tirar 100 tiros libres, de los cuales encestó 79.\n",
        "<br> Estoy presentando como mi candidata a esta adolescente de último momento de 79 encestes (y no la previa de 80)."
      ],
      "metadata": {
        "id": "mcBONyY9-KNE"
      }
    },
    {
      "cell_type": "markdown",
      "source": [
        "### 4.2 Desafio\n",
        "\n",
        "Podemos suponer que la supertalentosa Diana Taurasi con su “índice de enceste” del 0.85 es superior a todas las jugadoras evaluadas en los pueblos por las cazatalentos.\n",
        "\n",
        "Desafío : ¿Si usted fuera la entrenadora, como ordena el valor esperado de encestes en una ronda de 100 tiros libres  a cada una de las candidatas propuestas por las cinco cazatalentos ?\n",
        "\n",
        "\n",
        "donde   Ci  < Cj   sii   prob(  #Encestes Ci  <  #Encestes Cj    | 100 tiros cada uno )  >  0.5\n",
        "es decir que, haciendo 100 tiros libres,  más de la mitad de las veces,  Ci va a lograr menos encestes que Cj\n",
        "\n",
        "La entrenadora de la gran ciudad NO quiere traer a la elegida de cada cazatalentos y hacerlas tirar 100 tiros delante de ella para constatar cual logra más encestes en esa ronda. Ella quiere, con la información que le brindó cada cazatalentos sobre el procedimiento y los resultados, elegir la mejor encestadora.\n"
      ],
      "metadata": {
        "id": "PRWG_L4tF0Ip"
      }
    },
    {
      "cell_type": "markdown",
      "source": [
        "### 4.3  Reglas del Desafio\n",
        "\n",
        "\n",
        "*  Entrega\n",
        "      * la entrega se realiza con un solo mensaje en Zulip canal #CazaTalentos\n",
        "         * Ordenamiento,  por ejemplo     C3 <  C6 < C5 <  C7 < C1 < C4 < C2\n",
        "         * Explicacion\n",
        "      * Si necesitará apoyarse en scripts para alguna de las comparaciones\n",
        "          * link a carpeta en GitHub\n",
        "      * Podrá enviar varios mensajes, el único que tendrá valor será el último\n",
        "\n",
        "*  Será muy valioso el intercambio de ideas en Zulip channel  **#laboIBA-CazaTalentos**  topic  **Intercambio de Ideas**, este desafío suele ser muy polémico.\n"
      ],
      "metadata": {
        "id": "WO9JHCzXF-9w"
      }
    },
    {
      "cell_type": "code",
      "source": [
        "set.seed(500009)\n",
        "library(tidyverse)\n",
        "\n",
        "# Parámetros\n",
        "n_iter <- 1e5\n",
        "n_tiros <- 100\n",
        "a0 <- 1; b0 <- 1\n",
        "\n",
        "posterior_beta <- function(y, n, a0 = 1, b0 = 1, n_iter = 1e5) {\n",
        "  rbeta(n_iter, a0 + y, b0 + n - y)\n",
        "}\n",
        "\n",
        "# C1: mejor de 100 pero observamos 80/100\n",
        "p1 <- posterior_beta(80, 100, a0, b0, n_iter)\n",
        "\n",
        "# C2: mejor de 200 pero observamos 80/100\n",
        "p2 <- posterior_beta(80, 100, a0, b0, n_iter)\n",
        "\n",
        "# C3: una sola, 80/100\n",
        "p3 <- posterior_beta(80, 100, a0, b0, n_iter)\n",
        "\n",
        "# C4: mejor de 2, observamos 80/100 de la elegida (el 75 del resto no modifica p* de la elegida)\n",
        "p4 <- posterior_beta(80, 100, a0, b0, n_iter)\n",
        "\n",
        "# C5: 10 rondas conocidas (701/1000)\n",
        "p5 <- posterior_beta(701, 1000, a0, b0, n_iter)\n",
        "\n",
        "# C6 y C7: una al azar con 79/100\n",
        "p6 <- posterior_beta(79, 100, a0, b0, n_iter)\n",
        "p7 <- posterior_beta(79, 100, a0, b0, n_iter)\n",
        "\n",
        "# Predicción de encestes futuros en 100 tiros\n",
        "sim_encestes <- function(p, n_tiros = 100) rbinom(length(p), n_tiros, p)\n",
        "\n",
        "pred <- tibble(\n",
        "  C1 = sim_encestes(p1),\n",
        "  C2 = sim_encestes(p2),\n",
        "  C3 = sim_encestes(p3),\n",
        "  C4 = sim_encestes(p4),\n",
        "  C5 = sim_encestes(p5),\n",
        "  C6 = sim_encestes(p6),\n",
        "  C7 = sim_encestes(p7)\n",
        ")\n",
        "\n",
        "# Matriz P(Ci < Cj)\n",
        "nC <- ncol(pred)\n",
        "res <- matrix(NA, nC, nC, dimnames = list(colnames(pred), colnames(pred)))\n",
        "for (i in 1:nC) for (j in 1:nC) if (i != j) res[i, j] <- mean(pred[[i]] < pred[[j]])\n",
        "\n",
        "# Esperados y ranking\n",
        "esp <- colMeans(pred)\n",
        "ranking <- tibble(Cazatalentos = names(esp), Esperado = esp) |> arrange(desc(Esperado))\n",
        "\n",
        "print(\"Ranking esperado (mayor es mejor):\"); print(ranking)\n",
        "print(\"Matriz P(Ci < Cj):\"); print(round(res, 3))\n"
      ],
      "metadata": {
        "colab": {
          "base_uri": "https://localhost:8080/"
        },
        "id": "jUJTAuxsgfAy",
        "outputId": "7d21eb62-9731-4f33-e0ae-a0e57936b185"
      },
      "execution_count": null,
      "outputs": [
        {
          "output_type": "stream",
          "name": "stdout",
          "text": [
            "[1] \"Ranking esperado (mayor es mejor):\"\n",
            "\u001b[90m# A tibble: 7 × 2\u001b[39m\n",
            "  Cazatalentos Esperado\n",
            "  \u001b[3m\u001b[90m<chr>\u001b[39m\u001b[23m           \u001b[3m\u001b[90m<dbl>\u001b[39m\u001b[23m\n",
            "\u001b[90m1\u001b[39m C1               79.4\n",
            "\u001b[90m2\u001b[39m C4               79.4\n",
            "\u001b[90m3\u001b[39m C2               79.4\n",
            "\u001b[90m4\u001b[39m C3               79.4\n",
            "\u001b[90m5\u001b[39m C7               78.4\n",
            "\u001b[90m6\u001b[39m C6               78.4\n",
            "\u001b[90m7\u001b[39m C5               70.1\n",
            "[1] \"Matriz P(Ci < Cj):\"\n",
            "      C1    C2    C3    C4    C5    C6    C7\n",
            "C1    NA 0.473 0.474 0.475 0.094 0.426 0.426\n",
            "C2 0.477    NA 0.475 0.474 0.095 0.426 0.426\n",
            "C3 0.476 0.475    NA 0.477 0.094 0.426 0.427\n",
            "C4 0.475 0.475 0.474    NA 0.094 0.425 0.427\n",
            "C5 0.882 0.881 0.883 0.883    NA 0.851 0.852\n",
            "C6 0.525 0.525 0.524 0.526 0.122    NA 0.476\n",
            "C7 0.525 0.524 0.523 0.525 0.120 0.475    NA\n"
          ]
        }
      ]
    },
    {
      "cell_type": "code",
      "source": [
        "ajuste_seleccion <- function(m, observado, n_tiros = 100, n_iter = 1e6, # Use the global n_iter\n",
        "                             a0 = 1, b0 = 1) {\n",
        "  # Simula grupos de m jugadoras; condiciona a que el max observado sea 'observado'\n",
        "  p_mat <- matrix(rbeta(n_iter * m, a0, b0), nrow = n_iter, ncol = m)\n",
        "  Y_mat <- matrix(rbinom(n_iter * m, n_tiros, as.vector(p_mat)), nrow = n_iter, ncol = m)\n",
        "  idx   <- max.col(Y_mat, ties.method = \"first\")              # índice de la mejor en cada grupo\n",
        "  y_max <- Y_mat[cbind(1:n_iter, idx)]\n",
        "  keep  <- which(y_max == observado)                          # condiciona en el max reportado\n",
        "  if (length(keep) < 1000) stop(\"Muy pocos escenarios válidos; aumentá n_iter en ajuste_seleccion.\")\n",
        "  p_sel <- p_mat[cbind(keep, idx[keep])]\n",
        "  sample(p_sel, n_iter, replace = TRUE)                       # remuestrea para devolver tamaño n_iter\n",
        "}"
      ],
      "metadata": {
        "id": "gLwo7oGxIywR"
      },
      "execution_count": null,
      "outputs": []
    },
    {
      "cell_type": "code",
      "source": [
        "#Tablas\n",
        "library(ggplot2)\n",
        "library(tidyr)\n",
        "library(dplyr)\n",
        "\n",
        "# Tabla resumen por candidata: media, sd y banda creíble 95%\n",
        "summary_tbl <- pred %>%\n",
        "  pivot_longer(everything(), names_to = \"Cazatalentos\", values_to = \"encestes\") %>%\n",
        "  group_by(Cazatalentos) %>%\n",
        "  summarise(\n",
        "    media = mean(encestes),\n",
        "    sd = sd(encestes),\n",
        "    p2.5 = quantile(encestes, 0.025),\n",
        "    p50  = quantile(encestes, 0.50),\n",
        "    p97.5 = quantile(encestes, 0.975),\n",
        "    .groups = \"drop\"\n",
        "  ) %>%\n",
        "  arrange(desc(media))\n",
        "\n",
        "cat(\"\\n--- Resumen por candidata (encestes en 100 tiros) ---\\n\")\n",
        "print(summary_tbl)\n",
        "\n",
        "# Ranking con bandas creíbles 95%\n",
        "ggplot(summary_tbl, aes(x = reorder(Cazatalentos, media), y = media)) +\n",
        "  geom_point(size = 3) +\n",
        "  geom_errorbar(aes(ymin = p2.5, ymax = p97.5), width = 0.2) +\n",
        "  coord_flip() +\n",
        "  labs(\n",
        "    title = \"Ranking esperado y banda creíble 95%\",\n",
        "    x = NULL, y = \"Encestes esperados (100 tiros)\"\n",
        "  )\n",
        "\n",
        "# Distribuciones predictivas por candidata\n",
        "pred_long <- pred %>%\n",
        "  pivot_longer(everything(), names_to = \"Cazatalentos\", values_to = \"encestes\")\n",
        "\n",
        "ggplot(pred_long, aes(x = encestes)) +\n",
        "  geom_density(adjust = 1) +\n",
        "  facet_wrap(~ Cazatalentos, ncol = 3, scales = \"free_y\") +\n",
        "  labs(\n",
        "    title = \"Distribuciones predictivas de encestes (100 tiros)\",\n",
        "    x = \"Encestes\", y = \"Densidad\"\n",
        "  )\n",
        "\n",
        "# Heatmap de probabilidades pareadas P(Ci < Cj)\n",
        "res_df <- as.data.frame(res) |>\n",
        "  tibble::rownames_to_column(\"Ci\") |>\n",
        "  pivot_longer(-Ci, names_to = \"Cj\", values_to = \"prob\")\n",
        "\n",
        "ggplot(res_df, aes(Cj, Ci, fill = prob)) +\n",
        "  geom_tile() +\n",
        "  geom_text(aes(label = ifelse(is.na(prob), \"\", sprintf(\"%.2f\", prob))), size = 3) +\n",
        "  scale_fill_gradient(low = \"white\", high = \"black\", na.value = \"grey90\") +\n",
        "  labs(\n",
        "    title = \"Probabilidades por pares: P(Ci < Cj)\",\n",
        "    x = \"Cj\", y = \"Ci\", fill = \"P(Ci<Cj)\"\n",
        "  ) +\n",
        "  theme(axis.text.x = element_text(angle = 45, hjust = 1))\n"
      ],
      "metadata": {
        "colab": {
          "base_uri": "https://localhost:8080/",
          "height": 1000
        },
        "id": "K9oKnyMzgCeN",
        "outputId": "859f26b2-56eb-47d8-8083-44d990ec5f4d"
      },
      "execution_count": null,
      "outputs": [
        {
          "output_type": "stream",
          "name": "stdout",
          "text": [
            "\n",
            "--- Resumen por candidata (encestes en 100 tiros) ---\n",
            "\u001b[90m# A tibble: 7 × 6\u001b[39m\n",
            "  Cazatalentos media    sd  p2.5   p50 p97.5\n",
            "  \u001b[3m\u001b[90m<chr>\u001b[39m\u001b[23m        \u001b[3m\u001b[90m<dbl>\u001b[39m\u001b[23m \u001b[3m\u001b[90m<dbl>\u001b[39m\u001b[23m \u001b[3m\u001b[90m<dbl>\u001b[39m\u001b[23m \u001b[3m\u001b[90m<dbl>\u001b[39m\u001b[23m \u001b[3m\u001b[90m<dbl>\u001b[39m\u001b[23m\n",
            "\u001b[90m1\u001b[39m C1            79.4  5.68    68    80    90\n",
            "\u001b[90m2\u001b[39m C4            79.4  5.68    68    80    90\n",
            "\u001b[90m3\u001b[39m C2            79.4  5.66    68    80    90\n",
            "\u001b[90m4\u001b[39m C3            79.4  5.66    68    80    90\n",
            "\u001b[90m5\u001b[39m C7            78.4  5.77    66    79    89\n",
            "\u001b[90m6\u001b[39m C6            78.4  5.79    66    79    89\n",
            "\u001b[90m7\u001b[39m C5            70.1  4.82    60    70    79\n"
          ]
        },
        {
          "output_type": "display_data",
          "data": {
            "text/plain": [
              "plot without title"
            ],
            "image/png": "[encoded data removed]"
          },
          "metadata": {
            "image/png": {
              "width": 420,
              "height": 420
            }
          }
        },
        {
          "output_type": "display_data",
          "data": {
            "text/plain": [
              "plot without title"
            ],
            "image/png": "[encoded data removed]"
          },
          "metadata": {
            "image/png": {
              "width": 420,
              "height": 420
            }
          }
        },
        {
          "output_type": "display_data",
          "data": {
            "text/plain": [
              "plot without title"
            ],
            "image/png": "[encoded data removed]"
          },
          "metadata": {
            "image/png": {
              "width": 420,
              "height": 420
            }
          }
        }
      ]
    }
  ]
}